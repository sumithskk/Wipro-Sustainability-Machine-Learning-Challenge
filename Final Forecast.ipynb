{
 "cells": [
  {
   "cell_type": "code",
   "execution_count": 1,
   "id": "23c15664",
   "metadata": {},
   "outputs": [],
   "source": [
    "#import dependencies\n",
    "import pandas as pd\n",
    "import numpy as np\n",
    "import seaborn as sns\n",
    "import matplotlib.pyplot as plt\n",
    "import warnings\n",
    "warnings.filterwarnings(\"ignore\")\n",
    "pd.set_option('display.max_columns',None)\n",
    "\n",
    "from sklearn.preprocessing import StandardScaler,LabelEncoder\n",
    "from sklearn.decomposition import PCA\n",
    "from sklearn import decomposition\n",
    "from sklearn.cluster import KMeans\n",
    "from scipy.stats import zscore\n"
   ]
  },
  {
   "cell_type": "code",
   "execution_count": 2,
   "id": "6f05ab2b",
   "metadata": {},
   "outputs": [],
   "source": [
    "#load dataset\n",
    "train = pd.read_csv('./datasets/train.csv')\n",
    "test = pd.read_csv('./datasets/test.csv')\n",
    "\n",
    "#Create copy of train and test\n",
    "traincopy = train.copy()\n",
    "testcopy = test.copy()"
   ]
  },
  {
   "cell_type": "code",
   "execution_count": 3,
   "id": "60d22a1c",
   "metadata": {},
   "outputs": [],
   "source": [
    "def falg_func(x):\n",
    "    #flag function\n",
    "    if x==1:\n",
    "        return 1\n",
    "    elif x==2:\n",
    "        return 2\n",
    "    elif x==3:\n",
    "        return 3\n",
    "    elif x==4:\n",
    "        return 4\n",
    "    else:\n",
    "        return 0\n",
    "    \n",
    "def season_map(x):\n",
    "    if (x == 12 or x==  1 or  x ==2):\n",
    "        return 1\n",
    "    if (x == 3 or x== 4  or  x ==5):\n",
    "        return 2\n",
    "    if (x == 6 or x==  7 or  x ==8):\n",
    "        return 3\n",
    "    if (x == 9 or x==  10 or  x ==11):\n",
    "        return 4"
   ]
  },
  {
   "cell_type": "markdown",
   "id": "34c0e69f",
   "metadata": {},
   "source": [
    "### Preprocessing"
   ]
  },
  {
   "cell_type": "code",
   "execution_count": 4,
   "id": "9eae0077",
   "metadata": {},
   "outputs": [],
   "source": [
    "#calculate GHI \n",
    "ghi_estmates = train['Clearsky DNI']*np.cos(train['Solar Zenith Angle']*np.pi/180)+train['Clearsky DHI']"
   ]
  },
  {
   "cell_type": "code",
   "execution_count": 5,
   "id": "70836e36",
   "metadata": {},
   "outputs": [],
   "source": [
    "#concat train and test data\n",
    "train['Phase'] = 'train'\n",
    "test['Phase'] = 'test'\n",
    "alldf = pd.concat([train,test],axis=0)"
   ]
  },
  {
   "cell_type": "code",
   "execution_count": 6,
   "id": "6eb62d99",
   "metadata": {},
   "outputs": [],
   "source": [
    "def preprocessing(train):\n",
    "    #TIME features (year montd day and time)\n",
    "    train['time'] = pd.to_datetime(train[['Year','Month','Day','Hour','Minute']])\n",
    "\n",
    "    #diff between temp and due point  ~ \n",
    "    #he smaller the difference between the temp and the dew_point, the higher the RH\n",
    "    train['dewpoint-temp'] = train['Temperature']-train['Dew Point']\n",
    "\n",
    "    #RelativeHumidity and temp\n",
    "    train['RHxTemp'] = train['Relative Humidity']*train['Temperature']\n",
    "\n",
    "    #Relative Humidity Index(RHI)\n",
    "    train['RHI'] = 0.8*train['Temperature']+train['Relative Humidity']/100*(train['Temperature']-14.4)+46\n",
    "    \n",
    "    #flag function\n",
    "    train['Fill Flag'] = train['Fill Flag'].apply(falg_func)\n",
    "\n",
    "    #pressure class\n",
    "    train['Pressure_class'] =pd.cut(train['Pressure'],bins=[0,999,1008,1013,1040],labels=[0,1,2,3])\n",
    "\n",
    "    #wind directions class \n",
    "    train['WindDirection_Class'] = pd.cut(train['Wind Direction'],bins=8,labels=[1,2,3,4,5,6,7,8])\n",
    "\n",
    "    #sine transform of wind direction\n",
    "    train['WindDirection_Sine'] = (np.sin(train['Wind Direction']*(np.pi/180)))\n",
    "\n",
    "    #outliers - Cloudtype 10 replace with 0\n",
    "    train['Cloud Type'][train['Cloud Type']==10] = 0\n",
    "    return train"
   ]
  },
  {
   "cell_type": "code",
   "execution_count": 7,
   "id": "fb6296d3",
   "metadata": {},
   "outputs": [],
   "source": [
    "#preprocessing for train and test data\n",
    "alldf = preprocessing(alldf)\n",
    "\n",
    "#split the data into train and test\n",
    "train = alldf[alldf['Phase']=='train']\n",
    "test = alldf[alldf['Phase']=='test']"
   ]
  },
  {
   "cell_type": "code",
   "execution_count": 8,
   "id": "b7b16e1f",
   "metadata": {},
   "outputs": [],
   "source": [
    "def iqr_range(value):\n",
    "    q1 = value.quantile(0.25)\n",
    "    q3 = value.quantile(0.75)\n",
    "    iqr = q3 - q1\n",
    "    return q1-1.5*iqr,q3+1.5*iqr"
   ]
  },
  {
   "cell_type": "code",
   "execution_count": 9,
   "id": "030745f5",
   "metadata": {},
   "outputs": [
    {
     "data": {
      "text/plain": [
       "<AxesSubplot:xlabel='time', ylabel='Clearsky DHI'>"
      ]
     },
     "execution_count": 9,
     "metadata": {},
     "output_type": "execute_result"
    },
    {
     "data": {
      "image/png": "[encoded data removed]",
      "text/plain": [
       "<Figure size 864x360 with 1 Axes>"
      ]
     },
     "metadata": {
      "needs_background": "light"
     },
     "output_type": "display_data"
    }
   ],
   "source": [
    "#visualize each target features\n",
    "plt.figure(figsize=(12,5))\n",
    "subdf = train[:100]\n",
    "sns.scatterplot(data=subdf,x='time',y='Clearsky DHI')\n",
    "sns.scatterplot(data=subdf,x='time',y='Clearsky DNI')\n",
    "sns.scatterplot(data=subdf,x='time',y='Clearsky GHI')"
   ]
  },
  {
   "cell_type": "markdown",
   "id": "2313d533",
   "metadata": {},
   "source": [
    "* The day and night time periods\n",
    "* There might be some correlation between target varibles (we found the equation for GHI)"
   ]
  },
  {
   "cell_type": "markdown",
   "id": "9b1a9f4e",
   "metadata": {},
   "source": [
    "* a region with a temperature of 18° and relative humidity of 40% is considered too dry whereas the region with 23° temperature and 70% relative humidity comes in the range of too moist regions. The regions between these two extremes are acceptable such as regions with 24° temperature and 50% humidity. In this way, their relationship affects the region.\n",
    "\n",
    "* Relation between pressure and clouds"
   ]
  },
  {
   "cell_type": "markdown",
   "id": "b11f9c04",
   "metadata": {},
   "source": [
    "## Feature Engineering"
   ]
  },
  {
   "cell_type": "code",
   "execution_count": 10,
   "id": "70861f0d",
   "metadata": {},
   "outputs": [],
   "source": [
    "def feature_engineering(train):\n",
    "    #combine hour and minutes\n",
    "    train['ThirtyMinutesCycle'] = train['Hour']*60 + train['Minute']\n",
    "    \n",
    "    #Seasons\n",
    "    train['Season'] =  train['Month'].apply(lambda x:season_map(x))\n",
    "    \n",
    "    #Mean Humidity ZeningAngle WindDire by Hour and Minute\n",
    "    train[['RelHumid_HourMinute','ZenithAng_HourMinute','WindDir_HourMinute']] =\\\n",
    "            train.groupby(['Hour','Minute'])['Relative Humidity', 'Solar Zenith Angle','Wind Direction'].transform('mean')\n",
    "\n",
    "    #Mean Humidity ZeningAngle WindDire Temperature by Year and Month\n",
    "    train[['RelHumid_YearMonth','WindDir_YearMonth','Temp_YearMonth']] =\\\n",
    "                train.groupby(['Year','Month'])['Relative Humidity','Wind Direction','Temperature'].transform('mean')\n",
    "\n",
    "    #Mean Humidity ZeningAngle WindDire Temperature by Year and Month\n",
    "    train[['RelHumid_SeasonYear','WindDir_SeasonYear','Temp_SeasonYear']] =\\\n",
    "                train.groupby(['Season','Year'])['Relative Humidity','Wind Direction','Temperature'].transform('mean')\n",
    "\n",
    "    # Delta (diff)\n",
    "    #change in Humidity\n",
    "    train['delta_RelativeHumidity'] = train['Relative Humidity'].diff()\n",
    "    #change in Temperature\n",
    "    train['delta_Temperature'] = train['Temperature'].diff()\n",
    "    #change in Dew Point\n",
    "    train['delta_DewPoint'] = train['Dew Point'].diff()\n",
    "    #change in Precipitable Water\n",
    "    train['delta_PrecipWater'] = train['Precipitable Water'].diff()\n",
    "    #change in Wind Speed\n",
    "    train['delta_WindSpeed'] = train['Wind Speed'].diff()\n",
    "\n",
    "    #Cloud Types and Pressure Class\n",
    "    train[['CloudPressure_RelaHumidity', 'CloudPressure_PrecWater','CloudPressure_DewPoint','CloudPressure_Temp']] =\\\n",
    "    train.groupby(['Pressure_class','Cloud Type'])['Relative Humidity', 'Precipitable Water','Dew Point','Temperature'].transform('mean')\n",
    "    \n",
    "    #Monthly aggregation zscore\n",
    "    train['Temp_zscore_monthly'] = train.groupby(['Month'])['Temperature'].transform(lambda x : zscore(x,ddof=1))\n",
    "    train['Pressure_zscore_monthly'] = train.groupby(['Month'])['Pressure'].transform(lambda x : zscore(x,ddof=1))\n",
    "    train['RelHum_zscore_monthly'] = train.groupby(['Month'])['Relative Humidity'].transform(lambda x : zscore(x,ddof=1))\n",
    "    train['PrecWater_zscore_monthly'] = train.groupby(['Month'])['Precipitable Water'].transform(lambda x : zscore(x,ddof=1))\n",
    "    train['WindSpeed_zscore_monthly'] = train.groupby(['Month'])['Wind Speed'].transform(lambda x : zscore(x,ddof=1))\n",
    "    \n",
    "    #Yearly aggregation zscore\n",
    "    train['Temp_zscore_monthly'] = train.groupby(['Year'])['Temperature'].transform(lambda x : zscore(x,ddof=1))\n",
    "    train['Pressure_zscore_monthly'] = train.groupby(['Year'])['Pressure'].transform(lambda x : zscore(x,ddof=1))\n",
    "    train['RelHum_zscore_monthly'] = train.groupby(['Year'])['Relative Humidity'].transform(lambda x : zscore(x,ddof=1))\n",
    "    train['PrecWater_zscore_monthly'] = train.groupby(['Year'])['Precipitable Water'].transform(lambda x : zscore(x,ddof=1))\n",
    "    train['WindSpeed_zscore_monthly'] = train.groupby(['Year'])['Wind Speed'].transform(lambda x : zscore(x,ddof=1))\n",
    "    \n",
    "    \n",
    "    #simple transformation\n",
    "    train['TempXRelHumidity'] = train['Temperature']*train['Relative Humidity']\n",
    "    train['TempXSolarAngle'] = train['Temperature']*train['Solar Zenith Angle']\n",
    "    train['TempXRelHumidity'] = train['Temperature']*train['Relative Humidity']\n",
    "    train['TempXPrecWater'] = train['Temperature']*train['Precipitable Water'] \n",
    "    train['TempXWindSpeed'] = train['Temperature']*train['Wind Speed'] \n",
    "    \n",
    "    # group by feats_gr and calc mean,std of feats_agg\n",
    "    feats_gr  = ['Year','Month']\n",
    "    feats_agg = ['Dew Point','Temperature', 'Pressure', 'Relative Humidity','Precipitable Water', 'Wind Direction']\n",
    "    df = train.groupby(feats_gr)[feats_agg].agg([np.mean, np.std])\n",
    "    cols = df.columns\n",
    "    df.columns = ['_YrMnth_'.join(c) for c in cols]\n",
    "    df.reset_index(inplace = True)\n",
    "    #join df with train\n",
    "    train = train.merge(df, on = feats_gr, how = 'left')\n",
    "    \n",
    "    # group by feats_gr and calc mean,std of feats_agg\n",
    "    feats_gr  = ['Month','ThirtyMinutesCycle']\n",
    "    feats_agg = ['Dew Point','Temperature', 'Pressure', 'Relative Humidity','Precipitable Water', 'Wind Direction']\n",
    "    df = train.groupby(feats_gr)[feats_agg].agg([np.mean, np.std])\n",
    "    cols = df.columns\n",
    "    df.columns = ['_MnthMints_'.join(c) for c in cols]\n",
    "    df.reset_index(inplace = True)\n",
    "    #join df with train\n",
    "    train = train.merge(df, on = feats_gr, how = 'left')\n",
    "    \n",
    "    # group by feats_gr and calc mean,std of feats_agg\n",
    "    feats_gr  = ['Season','ThirtyMinutesCycle']\n",
    "    feats_agg = ['Dew Point','Temperature', 'Pressure', 'Relative Humidity','Precipitable Water', 'Wind Direction']\n",
    "    df = train.groupby(feats_gr)[feats_agg].agg([np.mean, np.std])\n",
    "    cols = df.columns\n",
    "    df.columns = ['_SeasMinuts_'.join(c) for c in cols]\n",
    "    df.reset_index(inplace = True)\n",
    "    #join df with train\n",
    "    train = train.merge(df, on = feats_gr, how = 'left')\n",
    "\n",
    "    # group by feats_gr and calc mean,std of feats_agg\n",
    "    feats_gr  = ['Season','Cloud Type']\n",
    "    feats_agg = ['Dew Point','Temperature', 'Pressure', 'Relative Humidity','Precipitable Water', 'Wind Direction']\n",
    "    df = train.groupby(feats_gr)[feats_agg].agg([np.mean])\n",
    "    cols = df.columns\n",
    "    df.columns = ['_SeasCloud_'.join(c) for c in cols]\n",
    "    df.reset_index(inplace = True)\n",
    "    #join df with train\n",
    "    train = train.merge(df, on = feats_gr, how = 'left')\n",
    "    \n",
    "    # group by feats_gr and calc mean,std of feats_agg\n",
    "    feats_gr  = ['Fill Flag','ThirtyMinutesCycle']\n",
    "    feats_agg = ['Dew Point','Temperature','Relative Humidity','Precipitable Water']\n",
    "    df = train.groupby(feats_gr)[feats_agg].agg([np.mean])\n",
    "    cols = df.columns\n",
    "    df.columns = ['_FlagMinute_'.join(c) for c in cols]\n",
    "    df.reset_index(inplace = True)\n",
    "    #join df with train\n",
    "    train = train.merge(df, on = feats_gr, how = 'left')\n",
    "    \n",
    "    # group by feats_gr and calc mean,std of feats_agg\n",
    "    feats_gr  = ['Fill Flag','Cloud Type']\n",
    "    feats_agg = ['Dew Point','Temperature','Relative Humidity','Precipitable Water']\n",
    "    df = train.groupby(feats_gr)[feats_agg].agg([np.mean])\n",
    "    cols = df.columns\n",
    "    df.columns = ['_FlagCloud_'.join(c) for c in cols]\n",
    "    df.reset_index(inplace = True)\n",
    "    #join df with train\n",
    "    train = train.merge(df, on = feats_gr, how = 'left')\n",
    "    \n",
    "    \n",
    "    return train"
   ]
  },
  {
   "cell_type": "code",
   "execution_count": 11,
   "id": "2566d172",
   "metadata": {},
   "outputs": [],
   "source": [
    "#feature engineering \n",
    "alldf = feature_engineering(alldf)\n",
    "#split the data into train and test\n",
    "train = alldf[alldf['Phase']=='train']\n",
    "test = alldf[alldf['Phase']=='test']\n",
    "\n",
    "#drop nan obs values in moving averages (drop entire row)\n",
    "train = train.dropna(axis=0).reset_index(drop=True)\n",
    "alldf = pd.concat([train,test],axis=0)"
   ]
  },
  {
   "cell_type": "code",
   "execution_count": 12,
   "id": "d510c64e",
   "metadata": {},
   "outputs": [],
   "source": [
    "#pca features\n",
    "num_feats = ['Temperature','Pressure', 'Relative Humidity', 'Solar Zenith Angle','Precipitable Water', 'Wind Direction', 'Wind Speed', 'Fill Flag','WindDir_YearMonth', \n",
    "'ZenithAng_HourMinute', 'WindDir_HourMinute', 'RelHumid_YearMonth','Temp_YearMonth', 'RelHumid_SeasonYear',\n",
    "'WindDir_SeasonYear', 'Temp_SeasonYear', 'delta_RelativeHumidity','delta_Temperature', 'delta_DewPoint', 'delta_PrecipWater','delta_WindSpeed',\n",
    "'CloudPressure_RelaHumidity','CloudPressure_PrecWater', 'CloudPressure_DewPoint','CloudPressure_Temp']\n",
    "#pca components as new features\n",
    "pca = decomposition.IncrementalPCA(n_components=10)\n",
    "emb = pca.fit_transform(alldf[num_feats].values)\n",
    "for i in range(emb.shape[1]):\n",
    "    alldf[f'pca_{i+1}'] = emb[:, i]\n",
    "                        \n",
    "# cluaset -- Fit the KMeans model to create cluster labels\n",
    "kmeans = KMeans(n_clusters=2, n_init=50, random_state=0)\n",
    "alldf['cluster']=  kmeans.fit_predict(alldf[num_feats].values)"
   ]
  },
  {
   "cell_type": "code",
   "execution_count": 13,
   "id": "2e5f98e8",
   "metadata": {},
   "outputs": [],
   "source": [
    "# # Create correlation matrix\n",
    "# targets = ['Clearsky DNI','Clearsky DHI','Clearsky GHI']\n",
    "# corr_matrix = alldf.drop(targets,axis=1).corr().abs()\n",
    "\n",
    "# # Select upper triangle of correlation matrix\n",
    "# upper = corr_matrix.where(np.triu(np.ones(corr_matrix.shape), k=1).astype(np.bool))\n",
    "\n",
    "# # Find features with correlation greater than 0.95\n",
    "# to_drop = [column for column in upper.columns if any(upper[column] > 0.95)]\n",
    "\n",
    "# #drop high correlated feats\n",
    "# alldf.drop(columns=to_drop,inplace=True)"
   ]
  },
  {
   "cell_type": "markdown",
   "id": "dde0c329",
   "metadata": {},
   "source": [
    "# Modelling"
   ]
  },
  {
   "cell_type": "code",
   "execution_count": 14,
   "id": "267e8571",
   "metadata": {},
   "outputs": [],
   "source": [
    "from sklearn.metrics import mean_squared_error,r2_score,mean_absolute_error\n",
    "from sklearn.model_selection import train_test_split\n",
    "from lightgbm import LGBMRegressor\n",
    "from catboost import CatBoostRegressor\n",
    "from sklearn.ensemble import RandomForestRegressor\n",
    "from xgboost import XGBRegressor\n",
    "import optuna\n",
    "from optuna.samplers import TPESampler"
   ]
  },
  {
   "cell_type": "code",
   "execution_count": 15,
   "id": "e140da3c",
   "metadata": {},
   "outputs": [],
   "source": [
    "def metrics_print(actual, predicted, data_set):\n",
    "    print(f'{data_set}')\n",
    "    print('RMSE', np.sqrt(mean_squared_error(actual, predicted)))\n",
    "    print('MAE', mean_absolute_error(actual, predicted))\n",
    "    print('r2_score', r2_score(actual, predicted))"
   ]
  },
  {
   "cell_type": "code",
   "execution_count": 16,
   "id": "01568287",
   "metadata": {},
   "outputs": [],
   "source": [
    "#split numerical and categorical data\n",
    "drop_feats = ['time','Day','Minute','Hour','Year','Month']  \n",
    "cat_feats = [ 'Cloud Type','Fill Flag','Pressure_class','WindDirection_Class']\n",
    "\n",
    "num_feats = [feat for feat in alldf.columns if (feat not in cat_feats and feat not in  drop_feats)]\n",
    "num_feats.remove('Phase')\n",
    "\n",
    "#get dummies for categorical features and drop drop_feats\n",
    "finaldf =  pd.get_dummies(alldf,columns=cat_feats)\n",
    "finaldf = finaldf.drop(columns=drop_feats)\n",
    "\n",
    "#split the data into train and test\n",
    "traindata = finaldf[finaldf['Phase']=='train']\n",
    "testdata = finaldf[finaldf['Phase']=='test']\n",
    "traindata.drop(columns='Phase',inplace=True)\n",
    "testdata.drop(columns='Phase',inplace=True)"
   ]
  },
  {
   "cell_type": "markdown",
   "id": "64c1cb62",
   "metadata": {},
   "source": [
    "### DHI"
   ]
  },
  {
   "cell_type": "code",
   "execution_count": 17,
   "id": "9dd7ea2a",
   "metadata": {},
   "outputs": [],
   "source": [
    "# training 3 models\n",
    "model1_DHI = XGBRegressor(n_estimators=300,learning_rate=0.05,max_depth=8,reg_lambda=7)\n",
    "\n",
    "model2_DHI = CatBoostRegressor(n_estimators = 1000,learning_rate = 0.0467250359539884,\n",
    "                               depth = 8,l2_leaf_reg = 3,verbose=False)\n",
    "\n",
    "model3_DHI = LGBMRegressor(num_leaves=40,n_estimators=300,reg_lambda =4,verbose=0)"
   ]
  },
  {
   "cell_type": "code",
   "execution_count": 18,
   "id": "12727990",
   "metadata": {},
   "outputs": [],
   "source": [
    "#train using best params\n",
    "target = 'Clearsky DHI'\n",
    "targets = ['Clearsky DHI','Clearsky DNI','Clearsky GHI']\n",
    "df_DHI = traindata.drop(columns = ['Clearsky DNI','Clearsky GHI'])\n",
    "X = df_DHI.drop(columns=target,axis=1)\n",
    "y = df_DHI[target]\n",
    "\n",
    "# Split the train data into train and validation\n",
    "x_train_H,x_valid_H,y_train_H,y_valid_H = train_test_split(X,y,test_size=0.3,shuffle=True,random_state=1)"
   ]
  },
  {
   "cell_type": "code",
   "execution_count": 19,
   "id": "b7af84b4",
   "metadata": {},
   "outputs": [
    {
     "name": "stdout",
     "output_type": "stream",
     "text": [
      "[LightGBM] [Warning] Found whitespace in feature_names, replace with underlines\n",
      "[LightGBM] [Warning] Auto-choosing col-wise multi-threading, the overhead of testing was 0.075634 seconds.\n",
      "You can set `force_col_wise=true` to remove the overhead.\n"
     ]
    },
    {
     "data": {
      "text/plain": [
       "LGBMRegressor(n_estimators=300, num_leaves=40, reg_lambda=4, verbose=0)"
      ]
     },
     "execution_count": 19,
     "metadata": {},
     "output_type": "execute_result"
    }
   ],
   "source": [
    "# #train each models\n",
    "model1_DHI.fit(x_train_H,y_train_H)\n",
    "model2_DHI.fit(x_train_H,y_train_H)\n",
    "model3_DHI.fit(x_train_H,y_train_H)"
   ]
  },
  {
   "cell_type": "code",
   "execution_count": 37,
   "id": "2efb2fbb",
   "metadata": {},
   "outputs": [
    {
     "name": "stdout",
     "output_type": "stream",
     "text": [
      "train\n",
      "RMSE 9.376477953878911\n",
      "MAE 4.920271588056806\n",
      "r2_score 0.977819857405294\n",
      "valid\n",
      "RMSE 10.674068022043016\n",
      "MAE 5.456357971835945\n",
      "r2_score 0.9709262367564707\n"
     ]
    }
   ],
   "source": [
    "wH = [0,1,0]\n",
    "train_pred_H = (wH[0]*model1_DHI.predict(x_train_H) +\\\n",
    "              wH[1]*model2_DHI.predict(x_train_H) +\\\n",
    "              wH[2]*model3_DHI.predict(x_train_H))\n",
    "\n",
    "valid_pred_H = (wH[0]*model1_DHI.predict(x_valid_H) +\\\n",
    "              wH[1]*model2_DHI.predict(x_valid_H) +\\\n",
    "              wH[2]*model3_DHI.predict(x_valid_H))\n",
    "\n",
    "#validation score\n",
    "metrics_print(train_pred_H, y_train_H.values, 'train')\n",
    "metrics_print(valid_pred_H, y_valid_H.values, 'valid')"
   ]
  },
  {
   "cell_type": "code",
   "execution_count": 21,
   "id": "168d6e3b",
   "metadata": {},
   "outputs": [],
   "source": [
    "# train\n",
    "# RMSE 10.238985387632962\n",
    "# MAE 5.248473332741532\n",
    "# r2_score 0.9734303959948302\n",
    "# valid\n",
    "# RMSE 11.34634905044951\n",
    "# MAE 5.670046843047136\n",
    "# r2_score 0.9669016281200691\n",
    "\n",
    "\n",
    "# train\n",
    "# RMSE 9.782911501452684\n",
    "# MAE 5.037678858415036\n",
    "# r2_score 0.9758003784953656\n",
    "# valid\n",
    "# RMSE 10.941659701563948\n",
    "# MAE 5.484292423679849\n",
    "# r2_score 0.9692860577984447\n"
   ]
  },
  {
   "cell_type": "code",
   "execution_count": 38,
   "id": "18d92daa",
   "metadata": {},
   "outputs": [],
   "source": [
    "# Predict for test data\n",
    "tdf = testdata.drop(columns = targets)\n",
    "test_pred_DHI = (wH[0]*model1_DHI.predict(tdf) +\\\n",
    "             wH[1]*model2_DHI.predict(tdf) +\\\n",
    "             wH[2]*model3_DHI.predict(tdf))\n",
    "\n",
    "test[target] = test_pred_DHI"
   ]
  },
  {
   "cell_type": "markdown",
   "id": "e284802e",
   "metadata": {},
   "source": [
    "### DNI"
   ]
  },
  {
   "cell_type": "code",
   "execution_count": 22,
   "id": "0af69ab1",
   "metadata": {},
   "outputs": [],
   "source": [
    "# training 2 models\n",
    "# training 3 models\n",
    "model1_DNI = XGBRegressor(n_estimators=300,learning_rate=0.05,max_depth=7,reg_lambda=7)\n",
    "\n",
    "model2_DNI = CatBoostRegressor(n_estimators = 1000,learning_rate = 0.0467250359539884,\n",
    "                               depth = 8,l2_leaf_reg = 3,verbose=False)\n",
    "\n",
    "model3_DNI = LGBMRegressor(num_leaves=40,n_estimators=300,reg_lambda =4,verbose=0)"
   ]
  },
  {
   "cell_type": "code",
   "execution_count": 23,
   "id": "49ccb045",
   "metadata": {},
   "outputs": [],
   "source": [
    "#train using best params\n",
    "target = 'Clearsky DNI'\n",
    "targets = ['Clearsky DHI','Clearsky DNI','Clearsky GHI']\n",
    "df_DHI = traindata.drop(columns = ['Clearsky DHI','Clearsky GHI'])\n",
    "X = df_DHI.drop(columns=target,axis=1)\n",
    "y = df_DHI[target]\n",
    "\n",
    "# Split the train data into train and validation\n",
    "x_train_N,x_valid_N,y_train_N,y_valid_N = train_test_split(X,y,test_size=0.2,random_state=1)"
   ]
  },
  {
   "cell_type": "code",
   "execution_count": 24,
   "id": "56a754a0",
   "metadata": {},
   "outputs": [
    {
     "name": "stdout",
     "output_type": "stream",
     "text": [
      "[LightGBM] [Warning] Found whitespace in feature_names, replace with underlines\n",
      "[LightGBM] [Warning] Auto-choosing col-wise multi-threading, the overhead of testing was 0.083080 seconds.\n",
      "You can set `force_col_wise=true` to remove the overhead.\n"
     ]
    },
    {
     "data": {
      "text/plain": [
       "LGBMRegressor(n_estimators=300, num_leaves=40, reg_lambda=4, verbose=0)"
      ]
     },
     "execution_count": 24,
     "metadata": {},
     "output_type": "execute_result"
    }
   ],
   "source": [
    "# #train each models\n",
    "model1_DNI.fit(x_train_N,y_train_N)\n",
    "model2_DNI.fit(x_train_N,y_train_N)\n",
    "model3_DNI.fit(x_train_N,y_train_N)"
   ]
  },
  {
   "cell_type": "code",
   "execution_count": 25,
   "id": "19be057a",
   "metadata": {},
   "outputs": [
    {
     "name": "stdout",
     "output_type": "stream",
     "text": [
      "train\n",
      "RMSE 25.091917188451333\n",
      "MAE 13.756940593527775\n",
      "r2_score 0.995364304157757\n",
      "valid\n",
      "RMSE 27.940174674553976\n",
      "MAE 15.095056581472749\n",
      "r2_score 0.9942597979156693\n"
     ]
    }
   ],
   "source": [
    "wN = [0,0,0.3]\n",
    "train_pred_N = (wN[0]*model1_DNI.predict(x_train_N) +\\\n",
    "              wN[1]*model2_DNI.predict(x_train_N) +\\\n",
    "              wN[2]*model3_DNI.predict(x_train_N))\n",
    "\n",
    "valid_pred_N = (wN[0]*model1_DNI.predict(x_valid_N) +\\\n",
    "              wN[1]*model2_DNI.predict(x_valid_N) +\\\n",
    "              wN[2]*model3_DNI.predict(x_valid_N))\n",
    "\n",
    "#validation score\n",
    "metrics_print(train_pred_N, y_train_N.values, 'train')\n",
    "metrics_print(valid_pred_N, y_valid_N.values, 'valid')"
   ]
  },
  {
   "cell_type": "code",
   "execution_count": 27,
   "id": "fe1e9422",
   "metadata": {},
   "outputs": [],
   "source": [
    "# train\n",
    "# RMSE 27.52243563520499\n",
    "# MAE 15.28212393049243\n",
    "# r2_score 0.9944184585018621\n",
    "# valid\n",
    "# RMSE 29.53151544801847\n",
    "# MAE 16.229806159203413\n",
    "# r2_score 0.9935866451200136\n",
    "\n",
    "\n",
    "# train\n",
    "# RMSE 26.7498982541645\n",
    "# MAE 14.953997234840566\n",
    "# r2_score 0.9947303084266268\n",
    "# valid\n",
    "# RMSE 28.89508266153263\n",
    "# MAE 15.941440880214213\n",
    "# r2_score 0.9938614027793098"
   ]
  },
  {
   "cell_type": "code",
   "execution_count": 26,
   "id": "ea7a95f3",
   "metadata": {},
   "outputs": [],
   "source": [
    "# Predict for test data\n",
    "tdf = testdata.drop(columns = targets)\n",
    "test_pred_DNI = (wN[0]*model1_DNI.predict(tdf) +\\\n",
    "             wN[1]*model2_DNI.predict(tdf) +\\\n",
    "             wN[2]*model3_DNI.predict(tdf))\n",
    "\n",
    "test[target] = test_pred_DNI"
   ]
  },
  {
   "cell_type": "markdown",
   "id": "520f864f",
   "metadata": {},
   "source": [
    "### Estimate GHI"
   ]
  },
  {
   "cell_type": "code",
   "execution_count": 27,
   "id": "4460d4d8",
   "metadata": {},
   "outputs": [],
   "source": [
    "predictiondf = test.copy()\n",
    "predictiondf['Clearsky GHI'] = predictiondf['Clearsky DNI']*np.cos(predictiondf['Solar Zenith Angle']*np.pi/180)+predictiondf['Clearsky DHI']"
   ]
  },
  {
   "cell_type": "code",
   "execution_count": 33,
   "id": "e9e819bb",
   "metadata": {},
   "outputs": [],
   "source": [
    "night = [60,   90,  120,  150,  180,  210,  240,  270,  300,\n",
    "        330,  360,  390,  420,  450,  480,  510,  540,  570,  600,  630,]"
   ]
  },
  {
   "cell_type": "code",
   "execution_count": 34,
   "id": "d84ef8d9",
   "metadata": {},
   "outputs": [],
   "source": [
    "predictiondf.loc[predictiondf['ThirtyMinutesCycle'].isin(night),['Clearsky DHI','Clearsky DNI','Clearsky GHI']] = 0"
   ]
  },
  {
   "cell_type": "code",
   "execution_count": 35,
   "id": "5020e2d6",
   "metadata": {},
   "outputs": [],
   "source": [
    "#save output\n",
    "predictiondf[['Clearsky DHI','Clearsky DNI','Clearsky GHI']].to_csv('finalday2.csv',index=False)"
   ]
  },
  {
   "cell_type": "code",
   "execution_count": null,
   "id": "aa4849da",
   "metadata": {},
   "outputs": [],
   "source": []
  }
 ],
 "metadata": {
  "kernelspec": {
   "display_name": "Python 3 (ipykernel)",
   "language": "python",
   "name": "python3"
  },
  "language_info": {
   "codemirror_mode": {
    "name": "ipython",
    "version": 3
   },
   "file_extension": ".py",
   "mimetype": "text/x-python",
   "name": "python",
   "nbconvert_exporter": "python",
   "pygments_lexer": "ipython3",
   "version": "3.7.11"
  }
 },
 "nbformat": 4,
 "nbformat_minor": 5
}
